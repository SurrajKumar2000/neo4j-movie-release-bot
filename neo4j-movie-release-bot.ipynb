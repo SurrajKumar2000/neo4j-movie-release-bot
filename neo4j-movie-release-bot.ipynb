from neo4j import GraphDatabase
import spacy
import gradio as gr
from typing import List, Tuple

# Initialize database connection
driver = GraphDatabase.driver(
    "bolt://3.86.116.134:7687",
    auth=("neo4j", "curve-polarity-runway")
)

# Load NLP model
nlp = spacy.load("en_core_web_sm")

def extract_entity(question: str, entity_types: List[str]) -> str:
    """Improved entity extraction with validation"""
    doc = nlp(question)
    entities = [ent.text for ent in doc.ents if ent.label_ in entity_types]
    return entities[0] if entities else None

def get_movie_info(movie_title: str) -> dict:
    with driver.session() as session:
        result = session.run(query, title=movie_title)
        return result.single().data() if result.peek() else None

def get_answer(question: str) -> str:
    """Enhanced question handling with error checking"""
    try:
        movie_title = extract_entity(question, ["WORK_OF_ART", "MOVIE"])
        if not movie_title:
            return "Please specify a movie title."

        movie_data = get_movie_info(movie_title)
        if not movie_data:
            return f"No information found for '{movie_title}'"

        # Handle different question types
        if "release" in question.lower():
            return f"'{movie_title}' was released in {movie_data.get('released', 'N/A')}"
        elif "director" in question.lower():
            directors = movie_data.get('directors', ['Unknown'])
            return f"'{movie_title}' was directed by {', '.join(directors)}"
        elif "plot" in question.lower():
            return f"Plot: {movie_data.get('plot', 'No plot available')}"
        elif "tagline" in question.lower():
            return f"Tagline: {movie_data.get('tagline', 'No tagline available')}"
        else:
            return f"Ask about: release date, directors, plot, or tagline for '{movie_title}'"

    except Exception as e:
        return f"Error processing request: {str(e)}"

def chatbot(input: str, history: List[Tuple[str, str]] = None) -> Tuple[List[Tuple[str, str]], List[Tuple[str, str]]]:
    """Chatbot handler with proper state management"""
    if history is None:
        history = []
    output = get_answer(input)
    history.append((input, output))
    return history, history

# Create Gradio interface
interface = gr.Interface(
    fn=chatbot,
    inputs=[gr.Textbox(label="Your Question"), "state"],
    outputs=[gr.Chatbot(label="Movie Chat"), "state"],
    title="Movie Information Bot",
    description="Ask about movies from our database! (e.g., 'When was The Matrix released?')"
)

if __name__ == "__main__":
    try:
        interface.launch(debug=True)
    finally:
        driver.close()  # Properly close database connection
